{
 "cells": [
  {
   "cell_type": "code",
   "execution_count": 1,
   "id": "359cd5e8",
   "metadata": {},
   "outputs": [],
   "source": [
    "import numpy as np\n",
    "import pandas as pd"
   ]
  },
  {
   "cell_type": "code",
   "execution_count": 2,
   "id": "58404656",
   "metadata": {},
   "outputs": [],
   "source": [
    "anime = pd.read_csv('anime.csv')\n",
    "rating = pd.read_csv('rating.csv')"
   ]
  },
  {
   "cell_type": "code",
   "execution_count": 3,
   "id": "23cfc997",
   "metadata": {},
   "outputs": [
    {
     "data": {
      "text/html": [
       "<div>\n",
       "<style scoped>\n",
       "    .dataframe tbody tr th:only-of-type {\n",
       "        vertical-align: middle;\n",
       "    }\n",
       "\n",
       "    .dataframe tbody tr th {\n",
       "        vertical-align: top;\n",
       "    }\n",
       "\n",
       "    .dataframe thead th {\n",
       "        text-align: right;\n",
       "    }\n",
       "</style>\n",
       "<table border=\"1\" class=\"dataframe\">\n",
       "  <thead>\n",
       "    <tr style=\"text-align: right;\">\n",
       "      <th></th>\n",
       "      <th>anime_id</th>\n",
       "      <th>name</th>\n",
       "      <th>genre</th>\n",
       "      <th>type</th>\n",
       "      <th>episodes</th>\n",
       "      <th>rating</th>\n",
       "      <th>members</th>\n",
       "    </tr>\n",
       "  </thead>\n",
       "  <tbody>\n",
       "    <tr>\n",
       "      <th>0</th>\n",
       "      <td>32281</td>\n",
       "      <td>Kimi no Na wa.</td>\n",
       "      <td>Drama, Romance, School, Supernatural</td>\n",
       "      <td>Movie</td>\n",
       "      <td>1</td>\n",
       "      <td>9.37</td>\n",
       "      <td>200630</td>\n",
       "    </tr>\n",
       "    <tr>\n",
       "      <th>1</th>\n",
       "      <td>5114</td>\n",
       "      <td>Fullmetal Alchemist: Brotherhood</td>\n",
       "      <td>Action, Adventure, Drama, Fantasy, Magic, Mili...</td>\n",
       "      <td>TV</td>\n",
       "      <td>64</td>\n",
       "      <td>9.26</td>\n",
       "      <td>793665</td>\n",
       "    </tr>\n",
       "    <tr>\n",
       "      <th>2</th>\n",
       "      <td>28977</td>\n",
       "      <td>Gintama°</td>\n",
       "      <td>Action, Comedy, Historical, Parody, Samurai, S...</td>\n",
       "      <td>TV</td>\n",
       "      <td>51</td>\n",
       "      <td>9.25</td>\n",
       "      <td>114262</td>\n",
       "    </tr>\n",
       "    <tr>\n",
       "      <th>3</th>\n",
       "      <td>9253</td>\n",
       "      <td>Steins;Gate</td>\n",
       "      <td>Sci-Fi, Thriller</td>\n",
       "      <td>TV</td>\n",
       "      <td>24</td>\n",
       "      <td>9.17</td>\n",
       "      <td>673572</td>\n",
       "    </tr>\n",
       "    <tr>\n",
       "      <th>4</th>\n",
       "      <td>9969</td>\n",
       "      <td>Gintama&amp;#039;</td>\n",
       "      <td>Action, Comedy, Historical, Parody, Samurai, S...</td>\n",
       "      <td>TV</td>\n",
       "      <td>51</td>\n",
       "      <td>9.16</td>\n",
       "      <td>151266</td>\n",
       "    </tr>\n",
       "  </tbody>\n",
       "</table>\n",
       "</div>"
      ],
      "text/plain": [
       "   anime_id                              name  \\\n",
       "0     32281                    Kimi no Na wa.   \n",
       "1      5114  Fullmetal Alchemist: Brotherhood   \n",
       "2     28977                          Gintama°   \n",
       "3      9253                       Steins;Gate   \n",
       "4      9969                     Gintama&#039;   \n",
       "\n",
       "                                               genre   type episodes  rating  \\\n",
       "0               Drama, Romance, School, Supernatural  Movie        1    9.37   \n",
       "1  Action, Adventure, Drama, Fantasy, Magic, Mili...     TV       64    9.26   \n",
       "2  Action, Comedy, Historical, Parody, Samurai, S...     TV       51    9.25   \n",
       "3                                   Sci-Fi, Thriller     TV       24    9.17   \n",
       "4  Action, Comedy, Historical, Parody, Samurai, S...     TV       51    9.16   \n",
       "\n",
       "   members  \n",
       "0   200630  \n",
       "1   793665  \n",
       "2   114262  \n",
       "3   673572  \n",
       "4   151266  "
      ]
     },
     "execution_count": 3,
     "metadata": {},
     "output_type": "execute_result"
    }
   ],
   "source": [
    "anime.head()"
   ]
  },
  {
   "cell_type": "code",
   "execution_count": 4,
   "id": "6e1168d7",
   "metadata": {},
   "outputs": [
    {
     "data": {
      "text/html": [
       "<div>\n",
       "<style scoped>\n",
       "    .dataframe tbody tr th:only-of-type {\n",
       "        vertical-align: middle;\n",
       "    }\n",
       "\n",
       "    .dataframe tbody tr th {\n",
       "        vertical-align: top;\n",
       "    }\n",
       "\n",
       "    .dataframe thead th {\n",
       "        text-align: right;\n",
       "    }\n",
       "</style>\n",
       "<table border=\"1\" class=\"dataframe\">\n",
       "  <thead>\n",
       "    <tr style=\"text-align: right;\">\n",
       "      <th></th>\n",
       "      <th>user_id</th>\n",
       "      <th>anime_id</th>\n",
       "      <th>rating</th>\n",
       "    </tr>\n",
       "  </thead>\n",
       "  <tbody>\n",
       "    <tr>\n",
       "      <th>0</th>\n",
       "      <td>1</td>\n",
       "      <td>20</td>\n",
       "      <td>-1</td>\n",
       "    </tr>\n",
       "    <tr>\n",
       "      <th>1</th>\n",
       "      <td>1</td>\n",
       "      <td>24</td>\n",
       "      <td>-1</td>\n",
       "    </tr>\n",
       "    <tr>\n",
       "      <th>2</th>\n",
       "      <td>1</td>\n",
       "      <td>79</td>\n",
       "      <td>-1</td>\n",
       "    </tr>\n",
       "    <tr>\n",
       "      <th>3</th>\n",
       "      <td>1</td>\n",
       "      <td>226</td>\n",
       "      <td>-1</td>\n",
       "    </tr>\n",
       "    <tr>\n",
       "      <th>4</th>\n",
       "      <td>1</td>\n",
       "      <td>241</td>\n",
       "      <td>-1</td>\n",
       "    </tr>\n",
       "  </tbody>\n",
       "</table>\n",
       "</div>"
      ],
      "text/plain": [
       "   user_id  anime_id  rating\n",
       "0        1        20      -1\n",
       "1        1        24      -1\n",
       "2        1        79      -1\n",
       "3        1       226      -1\n",
       "4        1       241      -1"
      ]
     },
     "execution_count": 4,
     "metadata": {},
     "output_type": "execute_result"
    }
   ],
   "source": [
    "rating.head()"
   ]
  },
  {
   "cell_type": "code",
   "execution_count": 5,
   "id": "717d898e",
   "metadata": {},
   "outputs": [],
   "source": [
    "df = anime.merge(rating, on='anime_id')\n",
    "df = df.rename(columns={\"rating_user\": \"user_rating\"})"
   ]
  },
  {
   "cell_type": "code",
   "execution_count": 6,
   "id": "7391b0fa",
   "metadata": {
    "scrolled": true
   },
   "outputs": [
    {
     "data": {
      "text/html": [
       "<div>\n",
       "<style scoped>\n",
       "    .dataframe tbody tr th:only-of-type {\n",
       "        vertical-align: middle;\n",
       "    }\n",
       "\n",
       "    .dataframe tbody tr th {\n",
       "        vertical-align: top;\n",
       "    }\n",
       "\n",
       "    .dataframe thead th {\n",
       "        text-align: right;\n",
       "    }\n",
       "</style>\n",
       "<table border=\"1\" class=\"dataframe\">\n",
       "  <thead>\n",
       "    <tr style=\"text-align: right;\">\n",
       "      <th></th>\n",
       "      <th>anime_id</th>\n",
       "      <th>name</th>\n",
       "      <th>genre</th>\n",
       "      <th>type</th>\n",
       "      <th>episodes</th>\n",
       "      <th>rating_x</th>\n",
       "      <th>members</th>\n",
       "      <th>user_id</th>\n",
       "      <th>rating_y</th>\n",
       "    </tr>\n",
       "  </thead>\n",
       "  <tbody>\n",
       "    <tr>\n",
       "      <th>0</th>\n",
       "      <td>32281</td>\n",
       "      <td>Kimi no Na wa.</td>\n",
       "      <td>Drama, Romance, School, Supernatural</td>\n",
       "      <td>Movie</td>\n",
       "      <td>1</td>\n",
       "      <td>9.37</td>\n",
       "      <td>200630</td>\n",
       "      <td>99</td>\n",
       "      <td>5</td>\n",
       "    </tr>\n",
       "    <tr>\n",
       "      <th>1</th>\n",
       "      <td>32281</td>\n",
       "      <td>Kimi no Na wa.</td>\n",
       "      <td>Drama, Romance, School, Supernatural</td>\n",
       "      <td>Movie</td>\n",
       "      <td>1</td>\n",
       "      <td>9.37</td>\n",
       "      <td>200630</td>\n",
       "      <td>152</td>\n",
       "      <td>10</td>\n",
       "    </tr>\n",
       "    <tr>\n",
       "      <th>2</th>\n",
       "      <td>32281</td>\n",
       "      <td>Kimi no Na wa.</td>\n",
       "      <td>Drama, Romance, School, Supernatural</td>\n",
       "      <td>Movie</td>\n",
       "      <td>1</td>\n",
       "      <td>9.37</td>\n",
       "      <td>200630</td>\n",
       "      <td>244</td>\n",
       "      <td>10</td>\n",
       "    </tr>\n",
       "    <tr>\n",
       "      <th>3</th>\n",
       "      <td>32281</td>\n",
       "      <td>Kimi no Na wa.</td>\n",
       "      <td>Drama, Romance, School, Supernatural</td>\n",
       "      <td>Movie</td>\n",
       "      <td>1</td>\n",
       "      <td>9.37</td>\n",
       "      <td>200630</td>\n",
       "      <td>271</td>\n",
       "      <td>10</td>\n",
       "    </tr>\n",
       "    <tr>\n",
       "      <th>4</th>\n",
       "      <td>32281</td>\n",
       "      <td>Kimi no Na wa.</td>\n",
       "      <td>Drama, Romance, School, Supernatural</td>\n",
       "      <td>Movie</td>\n",
       "      <td>1</td>\n",
       "      <td>9.37</td>\n",
       "      <td>200630</td>\n",
       "      <td>278</td>\n",
       "      <td>-1</td>\n",
       "    </tr>\n",
       "  </tbody>\n",
       "</table>\n",
       "</div>"
      ],
      "text/plain": [
       "   anime_id            name                                 genre   type  \\\n",
       "0     32281  Kimi no Na wa.  Drama, Romance, School, Supernatural  Movie   \n",
       "1     32281  Kimi no Na wa.  Drama, Romance, School, Supernatural  Movie   \n",
       "2     32281  Kimi no Na wa.  Drama, Romance, School, Supernatural  Movie   \n",
       "3     32281  Kimi no Na wa.  Drama, Romance, School, Supernatural  Movie   \n",
       "4     32281  Kimi no Na wa.  Drama, Romance, School, Supernatural  Movie   \n",
       "\n",
       "  episodes  rating_x  members  user_id  rating_y  \n",
       "0        1      9.37   200630       99         5  \n",
       "1        1      9.37   200630      152        10  \n",
       "2        1      9.37   200630      244        10  \n",
       "3        1      9.37   200630      271        10  \n",
       "4        1      9.37   200630      278        -1  "
      ]
     },
     "execution_count": 6,
     "metadata": {},
     "output_type": "execute_result"
    }
   ],
   "source": [
    "df.head()"
   ]
  },
  {
   "cell_type": "code",
   "execution_count": 7,
   "id": "cd34a855",
   "metadata": {
    "scrolled": true
   },
   "outputs": [
    {
     "data": {
      "text/plain": [
       "anime_id      0\n",
       "name          0\n",
       "genre       110\n",
       "type          4\n",
       "episodes      0\n",
       "rating_x      6\n",
       "members       0\n",
       "user_id       0\n",
       "rating_y      0\n",
       "dtype: int64"
      ]
     },
     "execution_count": 7,
     "metadata": {},
     "output_type": "execute_result"
    }
   ],
   "source": [
    "df.isna().sum()"
   ]
  },
  {
   "cell_type": "code",
   "execution_count": 8,
   "id": "74853f23",
   "metadata": {},
   "outputs": [
    {
     "data": {
      "text/html": [
       "<div>\n",
       "<style scoped>\n",
       "    .dataframe tbody tr th:only-of-type {\n",
       "        vertical-align: middle;\n",
       "    }\n",
       "\n",
       "    .dataframe tbody tr th {\n",
       "        vertical-align: top;\n",
       "    }\n",
       "\n",
       "    .dataframe thead th {\n",
       "        text-align: right;\n",
       "    }\n",
       "</style>\n",
       "<table border=\"1\" class=\"dataframe\">\n",
       "  <thead>\n",
       "    <tr style=\"text-align: right;\">\n",
       "      <th></th>\n",
       "      <th>anime_id</th>\n",
       "      <th>name</th>\n",
       "      <th>genre</th>\n",
       "      <th>type</th>\n",
       "      <th>episodes</th>\n",
       "      <th>rating_x</th>\n",
       "      <th>members</th>\n",
       "      <th>user_id</th>\n",
       "      <th>rating_y</th>\n",
       "    </tr>\n",
       "  </thead>\n",
       "  <tbody>\n",
       "    <tr>\n",
       "      <th>0</th>\n",
       "      <td>32281</td>\n",
       "      <td>Kimi no Na wa.</td>\n",
       "      <td>Drama, Romance, School, Supernatural</td>\n",
       "      <td>Movie</td>\n",
       "      <td>1</td>\n",
       "      <td>9.37</td>\n",
       "      <td>200630</td>\n",
       "      <td>99</td>\n",
       "      <td>5.0</td>\n",
       "    </tr>\n",
       "    <tr>\n",
       "      <th>1</th>\n",
       "      <td>32281</td>\n",
       "      <td>Kimi no Na wa.</td>\n",
       "      <td>Drama, Romance, School, Supernatural</td>\n",
       "      <td>Movie</td>\n",
       "      <td>1</td>\n",
       "      <td>9.37</td>\n",
       "      <td>200630</td>\n",
       "      <td>152</td>\n",
       "      <td>10.0</td>\n",
       "    </tr>\n",
       "    <tr>\n",
       "      <th>2</th>\n",
       "      <td>32281</td>\n",
       "      <td>Kimi no Na wa.</td>\n",
       "      <td>Drama, Romance, School, Supernatural</td>\n",
       "      <td>Movie</td>\n",
       "      <td>1</td>\n",
       "      <td>9.37</td>\n",
       "      <td>200630</td>\n",
       "      <td>244</td>\n",
       "      <td>10.0</td>\n",
       "    </tr>\n",
       "    <tr>\n",
       "      <th>3</th>\n",
       "      <td>32281</td>\n",
       "      <td>Kimi no Na wa.</td>\n",
       "      <td>Drama, Romance, School, Supernatural</td>\n",
       "      <td>Movie</td>\n",
       "      <td>1</td>\n",
       "      <td>9.37</td>\n",
       "      <td>200630</td>\n",
       "      <td>271</td>\n",
       "      <td>10.0</td>\n",
       "    </tr>\n",
       "    <tr>\n",
       "      <th>4</th>\n",
       "      <td>32281</td>\n",
       "      <td>Kimi no Na wa.</td>\n",
       "      <td>Drama, Romance, School, Supernatural</td>\n",
       "      <td>Movie</td>\n",
       "      <td>1</td>\n",
       "      <td>9.37</td>\n",
       "      <td>200630</td>\n",
       "      <td>278</td>\n",
       "      <td>NaN</td>\n",
       "    </tr>\n",
       "  </tbody>\n",
       "</table>\n",
       "</div>"
      ],
      "text/plain": [
       "   anime_id            name                                 genre   type  \\\n",
       "0     32281  Kimi no Na wa.  Drama, Romance, School, Supernatural  Movie   \n",
       "1     32281  Kimi no Na wa.  Drama, Romance, School, Supernatural  Movie   \n",
       "2     32281  Kimi no Na wa.  Drama, Romance, School, Supernatural  Movie   \n",
       "3     32281  Kimi no Na wa.  Drama, Romance, School, Supernatural  Movie   \n",
       "4     32281  Kimi no Na wa.  Drama, Romance, School, Supernatural  Movie   \n",
       "\n",
       "  episodes  rating_x  members  user_id  rating_y  \n",
       "0        1      9.37   200630       99       5.0  \n",
       "1        1      9.37   200630      152      10.0  \n",
       "2        1      9.37   200630      244      10.0  \n",
       "3        1      9.37   200630      271      10.0  \n",
       "4        1      9.37   200630      278       NaN  "
      ]
     },
     "execution_count": 8,
     "metadata": {},
     "output_type": "execute_result"
    }
   ],
   "source": [
    "df[\"rating_y\"].replace({-1: np.nan}, inplace=True)\n",
    "df.head()"
   ]
  },
  {
   "cell_type": "code",
   "execution_count": 9,
   "id": "ab6cbc7e",
   "metadata": {
    "scrolled": true
   },
   "outputs": [
    {
     "data": {
      "text/plain": [
       "anime_id    0\n",
       "name        0\n",
       "genre       0\n",
       "type        0\n",
       "episodes    0\n",
       "rating_x    0\n",
       "members     0\n",
       "user_id     0\n",
       "rating_y    0\n",
       "dtype: int64"
      ]
     },
     "execution_count": 9,
     "metadata": {},
     "output_type": "execute_result"
    }
   ],
   "source": [
    "df.dropna(axis = 0, inplace = True)\n",
    "df.isna().sum()"
   ]
  },
  {
   "cell_type": "code",
   "execution_count": 10,
   "id": "f682cc7a",
   "metadata": {
    "scrolled": true
   },
   "outputs": [
    {
     "data": {
      "text/plain": [
       "1"
      ]
     },
     "execution_count": 10,
     "metadata": {},
     "output_type": "execute_result"
    }
   ],
   "source": [
    "df.duplicated().sum()"
   ]
  },
  {
   "cell_type": "code",
   "execution_count": 11,
   "id": "2dacf518",
   "metadata": {},
   "outputs": [],
   "source": [
    "df.drop_duplicates(keep='first',inplace=True)"
   ]
  },
  {
   "cell_type": "code",
   "execution_count": 12,
   "id": "1a504e9d",
   "metadata": {
    "scrolled": true
   },
   "outputs": [
    {
     "name": "stdout",
     "output_type": "stream",
     "text": [
      "<class 'pandas.core.frame.DataFrame'>\n",
      "Int64Index: 6337145 entries, 0 to 7813724\n",
      "Data columns (total 9 columns):\n",
      " #   Column    Dtype  \n",
      "---  ------    -----  \n",
      " 0   anime_id  int64  \n",
      " 1   name      object \n",
      " 2   genre     object \n",
      " 3   type      object \n",
      " 4   episodes  object \n",
      " 5   rating_x  float64\n",
      " 6   members   int64  \n",
      " 7   user_id   int64  \n",
      " 8   rating_y  float64\n",
      "dtypes: float64(2), int64(3), object(4)\n",
      "memory usage: 483.5+ MB\n"
     ]
    }
   ],
   "source": [
    "df.info()"
   ]
  },
  {
   "cell_type": "code",
   "execution_count": 13,
   "id": "ae8aee18",
   "metadata": {},
   "outputs": [],
   "source": [
    "import re\n",
    "def name_cleaning(text):\n",
    "    text = re.sub(r'&quot;', '', text)\n",
    "    text = re.sub(r'&quot;', '', text)\n",
    "    text = re.sub(r'.hack//', '', text)\n",
    "    text = re.sub(r'&#039;', '', text)\n",
    "    text = re.sub(r'A&#039;s', '', text)\n",
    "    text = re.sub(r'I&#039;', 'I\\'', text)\n",
    "    text = re.sub(r'&amp;', 'and', text)\n",
    "    \n",
    "    return text\n",
    "\n",
    "df['name'] = df['name'].apply(name_cleaning)"
   ]
  },
  {
   "cell_type": "code",
   "execution_count": 14,
   "id": "e89d4faa",
   "metadata": {},
   "outputs": [
    {
     "data": {
      "text/plain": [
       "0                                             Kimi no Na wa.\n",
       "1                                             Kimi no Na wa.\n",
       "2                                             Kimi no Na wa.\n",
       "3                                             Kimi no Na wa.\n",
       "5                                             Kimi no Na wa.\n",
       "                                 ...                        \n",
       "7813713         Toushindai My Lover: Minami tai Mecha-Minami\n",
       "7813716                                          Under World\n",
       "7813717                                          Under World\n",
       "7813720                       Violence Gekiga David no Hoshi\n",
       "7813724    Violence Gekiga Shin David no Hoshi: Inma Dens...\n",
       "Name: name, Length: 6337145, dtype: object"
      ]
     },
     "execution_count": 14,
     "metadata": {},
     "output_type": "execute_result"
    }
   ],
   "source": [
    "df['name']"
   ]
  },
  {
   "cell_type": "markdown",
   "id": "43b2dd7a",
   "metadata": {},
   "source": [
    "## Exploratory Data Analysis"
   ]
  },
  {
   "cell_type": "code",
   "execution_count": 15,
   "id": "72000e35",
   "metadata": {
    "scrolled": true
   },
   "outputs": [
    {
     "data": {
      "image/png": "[encoded data removed]",
      "text/plain": [
       "<Figure size 864x720 with 2 Axes>"
      ]
     },
     "metadata": {
      "needs_background": "light"
     },
     "output_type": "display_data"
    }
   ],
   "source": [
    "import matplotlib.pyplot as plt\n",
    "import seaborn as sb\n",
    "plt.figure(figsize=(12,10))\n",
    "cor = df.corr()\n",
    "sb.heatmap(cor, annot=True, cmap=plt.cm.Dark2)\n",
    "plt.show()"
   ]
  },
  {
   "cell_type": "code",
   "execution_count": 16,
   "id": "c8094b7c",
   "metadata": {},
   "outputs": [
    {
     "data": {
      "image/png": "[encoded data removed]",
      "text/plain": [
       "<Figure size 432x288 with 1 Axes>"
      ]
     },
     "metadata": {
      "needs_background": "light"
     },
     "output_type": "display_data"
    }
   ],
   "source": [
    "#Anime types\n",
    "type_count = df['type'].value_counts()\n",
    "\n",
    "sb.barplot(x=type_count.values,\n",
    "            y=type_count.index,\n",
    "            palette='muted').set_title('Types of Anime')\n",
    "plt.show()"
   ]
  },
  {
   "cell_type": "code",
   "execution_count": 17,
   "id": "1abd1711",
   "metadata": {},
   "outputs": [],
   "source": [
    "#rating of anime\n",
    "top_anime = df.sort_values(by = 'rating_x',ascending = False)\n",
    "top_anime.drop_duplicates(subset=['name'], inplace=True)\n",
    "top_anime = top_anime[['name', 'rating_x']].sort_values(by = 'rating_x',ascending = False).head(10)"
   ]
  },
  {
   "cell_type": "code",
   "execution_count": 18,
   "id": "d2f3eeb5",
   "metadata": {
    "scrolled": true
   },
   "outputs": [
    {
     "data": {
      "text/html": [
       "<div>\n",
       "<style scoped>\n",
       "    .dataframe tbody tr th:only-of-type {\n",
       "        vertical-align: middle;\n",
       "    }\n",
       "\n",
       "    .dataframe tbody tr th {\n",
       "        vertical-align: top;\n",
       "    }\n",
       "\n",
       "    .dataframe thead th {\n",
       "        text-align: right;\n",
       "    }\n",
       "</style>\n",
       "<table border=\"1\" class=\"dataframe\">\n",
       "  <thead>\n",
       "    <tr style=\"text-align: right;\">\n",
       "      <th></th>\n",
       "      <th>name</th>\n",
       "      <th>rating_x</th>\n",
       "    </tr>\n",
       "  </thead>\n",
       "  <tbody>\n",
       "    <tr>\n",
       "      <th>0</th>\n",
       "      <td>Kimi no Na wa.</td>\n",
       "      <td>9.37</td>\n",
       "    </tr>\n",
       "    <tr>\n",
       "      <th>18623</th>\n",
       "      <td>Fullmetal Alchemist: Brotherhood</td>\n",
       "      <td>9.26</td>\n",
       "    </tr>\n",
       "    <tr>\n",
       "      <th>27693</th>\n",
       "      <td>Gintama°</td>\n",
       "      <td>9.25</td>\n",
       "    </tr>\n",
       "    <tr>\n",
       "      <th>41017</th>\n",
       "      <td>Steins;Gate</td>\n",
       "      <td>9.17</td>\n",
       "    </tr>\n",
       "    <tr>\n",
       "      <th>49875</th>\n",
       "      <td>Gintama</td>\n",
       "      <td>9.16</td>\n",
       "    </tr>\n",
       "    <tr>\n",
       "      <th>51932</th>\n",
       "      <td>Haikyuu!!: Karasuno Koukou VS Shiratorizawa Ga...</td>\n",
       "      <td>9.15</td>\n",
       "    </tr>\n",
       "    <tr>\n",
       "      <th>58060</th>\n",
       "      <td>Hunter x Hunter (2011)</td>\n",
       "      <td>9.13</td>\n",
       "    </tr>\n",
       "    <tr>\n",
       "      <th>65504</th>\n",
       "      <td>Gintama: Enchousen</td>\n",
       "      <td>9.11</td>\n",
       "    </tr>\n",
       "    <tr>\n",
       "      <th>61534</th>\n",
       "      <td>Ginga Eiyuu Densetsu</td>\n",
       "      <td>9.11</td>\n",
       "    </tr>\n",
       "    <tr>\n",
       "      <th>64346</th>\n",
       "      <td>Gintama Movie: Kanketsu-hen - Yorozuya yo Eien...</td>\n",
       "      <td>9.10</td>\n",
       "    </tr>\n",
       "  </tbody>\n",
       "</table>\n",
       "</div>"
      ],
      "text/plain": [
       "                                                    name  rating_x\n",
       "0                                         Kimi no Na wa.      9.37\n",
       "18623                   Fullmetal Alchemist: Brotherhood      9.26\n",
       "27693                                           Gintama°      9.25\n",
       "41017                                        Steins;Gate      9.17\n",
       "49875                                            Gintama      9.16\n",
       "51932  Haikyuu!!: Karasuno Koukou VS Shiratorizawa Ga...      9.15\n",
       "58060                             Hunter x Hunter (2011)      9.13\n",
       "65504                                 Gintama: Enchousen      9.11\n",
       "61534                               Ginga Eiyuu Densetsu      9.11\n",
       "64346  Gintama Movie: Kanketsu-hen - Yorozuya yo Eien...      9.10"
      ]
     },
     "execution_count": 18,
     "metadata": {},
     "output_type": "execute_result"
    }
   ],
   "source": [
    "top_anime"
   ]
  },
  {
   "cell_type": "code",
   "execution_count": 19,
   "id": "c127371c",
   "metadata": {},
   "outputs": [
    {
     "data": {
      "text/plain": [
       "Text(0.5, 1.0, 'Rating of websites')"
      ]
     },
     "execution_count": 19,
     "metadata": {},
     "output_type": "execute_result"
    },
    {
     "data": {
      "image/png": "[encoded data removed]",
      "text/plain": [
       "<Figure size 1080x504 with 1 Axes>"
      ]
     },
     "metadata": {
      "needs_background": "light"
     },
     "output_type": "display_data"
    }
   ],
   "source": [
    "#Distribution of rating\n",
    "plt.figure(figsize = (15, 7))\n",
    "plt.subplot(1,2,1)\n",
    "df['rating_x'].hist(bins=70)\n",
    "plt.title(\"Rating of websites\")"
   ]
  },
  {
   "cell_type": "markdown",
   "id": "b7ed9a38",
   "metadata": {},
   "source": [
    "## Creating Tags"
   ]
  },
  {
   "cell_type": "code",
   "execution_count": 20,
   "id": "bd7e3640",
   "metadata": {},
   "outputs": [
    {
     "data": {
      "text/plain": [
       "0          Drama Romance School Supernatural\n",
       "1          Drama Romance School Supernatural\n",
       "2          Drama Romance School Supernatural\n",
       "3          Drama Romance School Supernatural\n",
       "5          Drama Romance School Supernatural\n",
       "                         ...                \n",
       "7813713                               Hentai\n",
       "7813716                               Hentai\n",
       "7813717                               Hentai\n",
       "7813720                               Hentai\n",
       "7813724                               Hentai\n",
       "Name: genre, Length: 6337145, dtype: object"
      ]
     },
     "execution_count": 20,
     "metadata": {},
     "output_type": "execute_result"
    }
   ],
   "source": [
    "#Removing the comma in genre\n",
    "def genre_cleaning(text):\n",
    "    text = re.sub(r\",\",\"\", text)\n",
    "    return text\n",
    "\n",
    "df['genre'] = df['genre'].apply(genre_cleaning)\n",
    "df['genre']"
   ]
  },
  {
   "cell_type": "code",
   "execution_count": 21,
   "id": "82f45a41",
   "metadata": {},
   "outputs": [],
   "source": [
    "#Creating a tags column in data frame\n",
    "df['tags'] = df['genre'] + \" \" + df['type']"
   ]
  },
  {
   "cell_type": "code",
   "execution_count": 22,
   "id": "d58bfe50",
   "metadata": {},
   "outputs": [],
   "source": [
    "#Drop the duplicate columns\n",
    "df = df.drop_duplicates(subset=['anime_id', 'name'], keep='first')"
   ]
  },
  {
   "cell_type": "code",
   "execution_count": 23,
   "id": "1c9d1491",
   "metadata": {},
   "outputs": [
    {
     "data": {
      "text/html": [
       "<div>\n",
       "<style scoped>\n",
       "    .dataframe tbody tr th:only-of-type {\n",
       "        vertical-align: middle;\n",
       "    }\n",
       "\n",
       "    .dataframe tbody tr th {\n",
       "        vertical-align: top;\n",
       "    }\n",
       "\n",
       "    .dataframe thead th {\n",
       "        text-align: right;\n",
       "    }\n",
       "</style>\n",
       "<table border=\"1\" class=\"dataframe\">\n",
       "  <thead>\n",
       "    <tr style=\"text-align: right;\">\n",
       "      <th></th>\n",
       "      <th>anime_id</th>\n",
       "      <th>name</th>\n",
       "      <th>genre</th>\n",
       "      <th>type</th>\n",
       "      <th>episodes</th>\n",
       "      <th>rating_x</th>\n",
       "      <th>members</th>\n",
       "      <th>user_id</th>\n",
       "      <th>rating_y</th>\n",
       "      <th>tags</th>\n",
       "    </tr>\n",
       "  </thead>\n",
       "  <tbody>\n",
       "    <tr>\n",
       "      <th>0</th>\n",
       "      <td>32281</td>\n",
       "      <td>Kimi no Na wa.</td>\n",
       "      <td>Drama Romance School Supernatural</td>\n",
       "      <td>Movie</td>\n",
       "      <td>1</td>\n",
       "      <td>9.37</td>\n",
       "      <td>200630</td>\n",
       "      <td>99</td>\n",
       "      <td>5.0</td>\n",
       "      <td>Drama Romance School Supernatural Movie</td>\n",
       "    </tr>\n",
       "    <tr>\n",
       "      <th>2199</th>\n",
       "      <td>5114</td>\n",
       "      <td>Fullmetal Alchemist: Brotherhood</td>\n",
       "      <td>Action Adventure Drama Fantasy Magic Military ...</td>\n",
       "      <td>TV</td>\n",
       "      <td>64</td>\n",
       "      <td>9.26</td>\n",
       "      <td>793665</td>\n",
       "      <td>3</td>\n",
       "      <td>10.0</td>\n",
       "      <td>Action Adventure Drama Fantasy Magic Military ...</td>\n",
       "    </tr>\n",
       "    <tr>\n",
       "      <th>26774</th>\n",
       "      <td>28977</td>\n",
       "      <td>Gintama°</td>\n",
       "      <td>Action Comedy Historical Parody Samurai Sci-Fi...</td>\n",
       "      <td>TV</td>\n",
       "      <td>51</td>\n",
       "      <td>9.25</td>\n",
       "      <td>114262</td>\n",
       "      <td>43</td>\n",
       "      <td>10.0</td>\n",
       "      <td>Action Comedy Historical Parody Samurai Sci-Fi...</td>\n",
       "    </tr>\n",
       "    <tr>\n",
       "      <th>28159</th>\n",
       "      <td>9253</td>\n",
       "      <td>Steins;Gate</td>\n",
       "      <td>Sci-Fi Thriller</td>\n",
       "      <td>TV</td>\n",
       "      <td>24</td>\n",
       "      <td>9.17</td>\n",
       "      <td>673572</td>\n",
       "      <td>5</td>\n",
       "      <td>9.0</td>\n",
       "      <td>Sci-Fi Thriller TV</td>\n",
       "    </tr>\n",
       "    <tr>\n",
       "      <th>47442</th>\n",
       "      <td>9969</td>\n",
       "      <td>Gintama</td>\n",
       "      <td>Action Comedy Historical Parody Samurai Sci-Fi...</td>\n",
       "      <td>TV</td>\n",
       "      <td>51</td>\n",
       "      <td>9.16</td>\n",
       "      <td>151266</td>\n",
       "      <td>5</td>\n",
       "      <td>9.0</td>\n",
       "      <td>Action Comedy Historical Parody Samurai Sci-Fi...</td>\n",
       "    </tr>\n",
       "    <tr>\n",
       "      <th>51115</th>\n",
       "      <td>32935</td>\n",
       "      <td>Haikyuu!!: Karasuno Koukou VS Shiratorizawa Ga...</td>\n",
       "      <td>Comedy Drama School Shounen Sports</td>\n",
       "      <td>TV</td>\n",
       "      <td>10</td>\n",
       "      <td>9.15</td>\n",
       "      <td>93351</td>\n",
       "      <td>17</td>\n",
       "      <td>9.0</td>\n",
       "      <td>Comedy Drama School Shounen Sports TV</td>\n",
       "    </tr>\n",
       "    <tr>\n",
       "      <th>52348</th>\n",
       "      <td>11061</td>\n",
       "      <td>Hunter x Hunter (2011)</td>\n",
       "      <td>Action Adventure Shounen Super Power</td>\n",
       "      <td>TV</td>\n",
       "      <td>148</td>\n",
       "      <td>9.13</td>\n",
       "      <td>425855</td>\n",
       "      <td>7</td>\n",
       "      <td>9.0</td>\n",
       "      <td>Action Adventure Shounen Super Power TV</td>\n",
       "    </tr>\n",
       "    <tr>\n",
       "      <th>60923</th>\n",
       "      <td>820</td>\n",
       "      <td>Ginga Eiyuu Densetsu</td>\n",
       "      <td>Drama Military Sci-Fi Space</td>\n",
       "      <td>OVA</td>\n",
       "      <td>110</td>\n",
       "      <td>9.11</td>\n",
       "      <td>80679</td>\n",
       "      <td>183</td>\n",
       "      <td>10.0</td>\n",
       "      <td>Drama Military Sci-Fi Space OVA</td>\n",
       "    </tr>\n",
       "    <tr>\n",
       "      <th>61826</th>\n",
       "      <td>15335</td>\n",
       "      <td>Gintama Movie: Kanketsu-hen - Yorozuya yo Eien...</td>\n",
       "      <td>Action Comedy Historical Parody Samurai Sci-Fi...</td>\n",
       "      <td>Movie</td>\n",
       "      <td>1</td>\n",
       "      <td>9.10</td>\n",
       "      <td>72534</td>\n",
       "      <td>5</td>\n",
       "      <td>10.0</td>\n",
       "      <td>Action Comedy Historical Parody Samurai Sci-Fi...</td>\n",
       "    </tr>\n",
       "    <tr>\n",
       "      <th>64351</th>\n",
       "      <td>15417</td>\n",
       "      <td>Gintama: Enchousen</td>\n",
       "      <td>Action Comedy Historical Parody Samurai Sci-Fi...</td>\n",
       "      <td>TV</td>\n",
       "      <td>13</td>\n",
       "      <td>9.11</td>\n",
       "      <td>81109</td>\n",
       "      <td>5</td>\n",
       "      <td>8.0</td>\n",
       "      <td>Action Comedy Historical Parody Samurai Sci-Fi...</td>\n",
       "    </tr>\n",
       "    <tr>\n",
       "      <th>66888</th>\n",
       "      <td>4181</td>\n",
       "      <td>Clannad: After Story</td>\n",
       "      <td>Drama Fantasy Romance Slice of Life Supernatural</td>\n",
       "      <td>TV</td>\n",
       "      <td>24</td>\n",
       "      <td>9.06</td>\n",
       "      <td>456749</td>\n",
       "      <td>7</td>\n",
       "      <td>9.0</td>\n",
       "      <td>Drama Fantasy Romance Slice of Life Supernatur...</td>\n",
       "    </tr>\n",
       "    <tr>\n",
       "      <th>84742</th>\n",
       "      <td>28851</td>\n",
       "      <td>Koe no Katachi</td>\n",
       "      <td>Drama School Shounen</td>\n",
       "      <td>Movie</td>\n",
       "      <td>1</td>\n",
       "      <td>9.05</td>\n",
       "      <td>102733</td>\n",
       "      <td>2378</td>\n",
       "      <td>8.0</td>\n",
       "      <td>Drama School Shounen Movie</td>\n",
       "    </tr>\n",
       "    <tr>\n",
       "      <th>84786</th>\n",
       "      <td>918</td>\n",
       "      <td>Gintama</td>\n",
       "      <td>Action Comedy Historical Parody Samurai Sci-Fi...</td>\n",
       "      <td>TV</td>\n",
       "      <td>201</td>\n",
       "      <td>9.04</td>\n",
       "      <td>336376</td>\n",
       "      <td>5</td>\n",
       "      <td>9.0</td>\n",
       "      <td>Action Comedy Historical Parody Samurai Sci-Fi...</td>\n",
       "    </tr>\n",
       "    <tr>\n",
       "      <th>89760</th>\n",
       "      <td>2904</td>\n",
       "      <td>Code Geass: Hangyaku no Lelouch R2</td>\n",
       "      <td>Action Drama Mecha Military Sci-Fi Super Power</td>\n",
       "      <td>TV</td>\n",
       "      <td>25</td>\n",
       "      <td>8.98</td>\n",
       "      <td>572888</td>\n",
       "      <td>7</td>\n",
       "      <td>9.0</td>\n",
       "      <td>Action Drama Mecha Military Sci-Fi Super Power TV</td>\n",
       "    </tr>\n",
       "    <tr>\n",
       "      <th>114002</th>\n",
       "      <td>28891</td>\n",
       "      <td>Haikyuu!! Second Season</td>\n",
       "      <td>Comedy Drama School Shounen Sports</td>\n",
       "      <td>TV</td>\n",
       "      <td>25</td>\n",
       "      <td>8.93</td>\n",
       "      <td>179342</td>\n",
       "      <td>3</td>\n",
       "      <td>9.0</td>\n",
       "      <td>Comedy Drama School Shounen Sports TV</td>\n",
       "    </tr>\n",
       "    <tr>\n",
       "      <th>117977</th>\n",
       "      <td>199</td>\n",
       "      <td>Sen to Chihiro no Kamikakushi</td>\n",
       "      <td>Adventure Drama Supernatural</td>\n",
       "      <td>Movie</td>\n",
       "      <td>1</td>\n",
       "      <td>8.93</td>\n",
       "      <td>466254</td>\n",
       "      <td>3</td>\n",
       "      <td>10.0</td>\n",
       "      <td>Adventure Drama Supernatural Movie</td>\n",
       "    </tr>\n",
       "    <tr>\n",
       "      <th>140951</th>\n",
       "      <td>23273</td>\n",
       "      <td>Shigatsu wa Kimi no Uso</td>\n",
       "      <td>Drama Music Romance School Shounen</td>\n",
       "      <td>TV</td>\n",
       "      <td>22</td>\n",
       "      <td>8.92</td>\n",
       "      <td>416397</td>\n",
       "      <td>5</td>\n",
       "      <td>8.0</td>\n",
       "      <td>Drama Music Romance School Shounen TV</td>\n",
       "    </tr>\n",
       "    <tr>\n",
       "      <th>150399</th>\n",
       "      <td>24701</td>\n",
       "      <td>Mushishi Zoku Shou 2nd Season</td>\n",
       "      <td>Adventure Fantasy Historical Mystery Seinen Sl...</td>\n",
       "      <td>TV</td>\n",
       "      <td>10</td>\n",
       "      <td>8.88</td>\n",
       "      <td>75894</td>\n",
       "      <td>46</td>\n",
       "      <td>9.0</td>\n",
       "      <td>Adventure Fantasy Historical Mystery Seinen Sl...</td>\n",
       "    </tr>\n",
       "    <tr>\n",
       "      <th>152111</th>\n",
       "      <td>12355</td>\n",
       "      <td>Ookami Kodomo no Ame to Yuki</td>\n",
       "      <td>Fantasy Slice of Life</td>\n",
       "      <td>Movie</td>\n",
       "      <td>1</td>\n",
       "      <td>8.84</td>\n",
       "      <td>226193</td>\n",
       "      <td>11</td>\n",
       "      <td>9.0</td>\n",
       "      <td>Fantasy Slice of Life Movie</td>\n",
       "    </tr>\n",
       "    <tr>\n",
       "      <th>159820</th>\n",
       "      <td>1575</td>\n",
       "      <td>Code Geass: Hangyaku no Lelouch</td>\n",
       "      <td>Action Mecha Military School Sci-Fi Super Power</td>\n",
       "      <td>TV</td>\n",
       "      <td>25</td>\n",
       "      <td>8.83</td>\n",
       "      <td>715151</td>\n",
       "      <td>7</td>\n",
       "      <td>9.0</td>\n",
       "      <td>Action Mecha Military School Sci-Fi Super Powe...</td>\n",
       "    </tr>\n",
       "  </tbody>\n",
       "</table>\n",
       "</div>"
      ],
      "text/plain": [
       "        anime_id                                               name  \\\n",
       "0          32281                                     Kimi no Na wa.   \n",
       "2199        5114                   Fullmetal Alchemist: Brotherhood   \n",
       "26774      28977                                           Gintama°   \n",
       "28159       9253                                        Steins;Gate   \n",
       "47442       9969                                            Gintama   \n",
       "51115      32935  Haikyuu!!: Karasuno Koukou VS Shiratorizawa Ga...   \n",
       "52348      11061                             Hunter x Hunter (2011)   \n",
       "60923        820                               Ginga Eiyuu Densetsu   \n",
       "61826      15335  Gintama Movie: Kanketsu-hen - Yorozuya yo Eien...   \n",
       "64351      15417                                 Gintama: Enchousen   \n",
       "66888       4181                               Clannad: After Story   \n",
       "84742      28851                                     Koe no Katachi   \n",
       "84786        918                                            Gintama   \n",
       "89760       2904                 Code Geass: Hangyaku no Lelouch R2   \n",
       "114002     28891                            Haikyuu!! Second Season   \n",
       "117977       199                      Sen to Chihiro no Kamikakushi   \n",
       "140951     23273                            Shigatsu wa Kimi no Uso   \n",
       "150399     24701                      Mushishi Zoku Shou 2nd Season   \n",
       "152111     12355                       Ookami Kodomo no Ame to Yuki   \n",
       "159820      1575                    Code Geass: Hangyaku no Lelouch   \n",
       "\n",
       "                                                    genre   type episodes  \\\n",
       "0                       Drama Romance School Supernatural  Movie        1   \n",
       "2199    Action Adventure Drama Fantasy Magic Military ...     TV       64   \n",
       "26774   Action Comedy Historical Parody Samurai Sci-Fi...     TV       51   \n",
       "28159                                     Sci-Fi Thriller     TV       24   \n",
       "47442   Action Comedy Historical Parody Samurai Sci-Fi...     TV       51   \n",
       "51115                  Comedy Drama School Shounen Sports     TV       10   \n",
       "52348                Action Adventure Shounen Super Power     TV      148   \n",
       "60923                         Drama Military Sci-Fi Space    OVA      110   \n",
       "61826   Action Comedy Historical Parody Samurai Sci-Fi...  Movie        1   \n",
       "64351   Action Comedy Historical Parody Samurai Sci-Fi...     TV       13   \n",
       "66888    Drama Fantasy Romance Slice of Life Supernatural     TV       24   \n",
       "84742                                Drama School Shounen  Movie        1   \n",
       "84786   Action Comedy Historical Parody Samurai Sci-Fi...     TV      201   \n",
       "89760      Action Drama Mecha Military Sci-Fi Super Power     TV       25   \n",
       "114002                 Comedy Drama School Shounen Sports     TV       25   \n",
       "117977                       Adventure Drama Supernatural  Movie        1   \n",
       "140951                 Drama Music Romance School Shounen     TV       22   \n",
       "150399  Adventure Fantasy Historical Mystery Seinen Sl...     TV       10   \n",
       "152111                              Fantasy Slice of Life  Movie        1   \n",
       "159820    Action Mecha Military School Sci-Fi Super Power     TV       25   \n",
       "\n",
       "        rating_x  members  user_id  rating_y  \\\n",
       "0           9.37   200630       99       5.0   \n",
       "2199        9.26   793665        3      10.0   \n",
       "26774       9.25   114262       43      10.0   \n",
       "28159       9.17   673572        5       9.0   \n",
       "47442       9.16   151266        5       9.0   \n",
       "51115       9.15    93351       17       9.0   \n",
       "52348       9.13   425855        7       9.0   \n",
       "60923       9.11    80679      183      10.0   \n",
       "61826       9.10    72534        5      10.0   \n",
       "64351       9.11    81109        5       8.0   \n",
       "66888       9.06   456749        7       9.0   \n",
       "84742       9.05   102733     2378       8.0   \n",
       "84786       9.04   336376        5       9.0   \n",
       "89760       8.98   572888        7       9.0   \n",
       "114002      8.93   179342        3       9.0   \n",
       "117977      8.93   466254        3      10.0   \n",
       "140951      8.92   416397        5       8.0   \n",
       "150399      8.88    75894       46       9.0   \n",
       "152111      8.84   226193       11       9.0   \n",
       "159820      8.83   715151        7       9.0   \n",
       "\n",
       "                                                     tags  \n",
       "0                 Drama Romance School Supernatural Movie  \n",
       "2199    Action Adventure Drama Fantasy Magic Military ...  \n",
       "26774   Action Comedy Historical Parody Samurai Sci-Fi...  \n",
       "28159                                  Sci-Fi Thriller TV  \n",
       "47442   Action Comedy Historical Parody Samurai Sci-Fi...  \n",
       "51115               Comedy Drama School Shounen Sports TV  \n",
       "52348             Action Adventure Shounen Super Power TV  \n",
       "60923                     Drama Military Sci-Fi Space OVA  \n",
       "61826   Action Comedy Historical Parody Samurai Sci-Fi...  \n",
       "64351   Action Comedy Historical Parody Samurai Sci-Fi...  \n",
       "66888   Drama Fantasy Romance Slice of Life Supernatur...  \n",
       "84742                          Drama School Shounen Movie  \n",
       "84786   Action Comedy Historical Parody Samurai Sci-Fi...  \n",
       "89760   Action Drama Mecha Military Sci-Fi Super Power TV  \n",
       "114002              Comedy Drama School Shounen Sports TV  \n",
       "117977                 Adventure Drama Supernatural Movie  \n",
       "140951              Drama Music Romance School Shounen TV  \n",
       "150399  Adventure Fantasy Historical Mystery Seinen Sl...  \n",
       "152111                        Fantasy Slice of Life Movie  \n",
       "159820  Action Mecha Military School Sci-Fi Super Powe...  "
      ]
     },
     "execution_count": 23,
     "metadata": {},
     "output_type": "execute_result"
    }
   ],
   "source": [
    "df.iloc[0:20]"
   ]
  },
  {
   "cell_type": "code",
   "execution_count": 24,
   "id": "810167a1",
   "metadata": {},
   "outputs": [
    {
     "data": {
      "text/html": [
       "<div>\n",
       "<style scoped>\n",
       "    .dataframe tbody tr th:only-of-type {\n",
       "        vertical-align: middle;\n",
       "    }\n",
       "\n",
       "    .dataframe tbody tr th {\n",
       "        vertical-align: top;\n",
       "    }\n",
       "\n",
       "    .dataframe thead th {\n",
       "        text-align: right;\n",
       "    }\n",
       "</style>\n",
       "<table border=\"1\" class=\"dataframe\">\n",
       "  <thead>\n",
       "    <tr style=\"text-align: right;\">\n",
       "      <th></th>\n",
       "      <th>anime_id</th>\n",
       "      <th>name</th>\n",
       "      <th>tags</th>\n",
       "    </tr>\n",
       "  </thead>\n",
       "  <tbody>\n",
       "    <tr>\n",
       "      <th>0</th>\n",
       "      <td>32281</td>\n",
       "      <td>Kimi no Na wa.</td>\n",
       "      <td>Drama Romance School Supernatural Movie</td>\n",
       "    </tr>\n",
       "    <tr>\n",
       "      <th>2199</th>\n",
       "      <td>5114</td>\n",
       "      <td>Fullmetal Alchemist: Brotherhood</td>\n",
       "      <td>Action Adventure Drama Fantasy Magic Military ...</td>\n",
       "    </tr>\n",
       "    <tr>\n",
       "      <th>26774</th>\n",
       "      <td>28977</td>\n",
       "      <td>Gintama°</td>\n",
       "      <td>Action Comedy Historical Parody Samurai Sci-Fi...</td>\n",
       "    </tr>\n",
       "    <tr>\n",
       "      <th>28159</th>\n",
       "      <td>9253</td>\n",
       "      <td>Steins;Gate</td>\n",
       "      <td>Sci-Fi Thriller TV</td>\n",
       "    </tr>\n",
       "    <tr>\n",
       "      <th>47442</th>\n",
       "      <td>9969</td>\n",
       "      <td>Gintama</td>\n",
       "      <td>Action Comedy Historical Parody Samurai Sci-Fi...</td>\n",
       "    </tr>\n",
       "  </tbody>\n",
       "</table>\n",
       "</div>"
      ],
      "text/plain": [
       "       anime_id                              name  \\\n",
       "0         32281                    Kimi no Na wa.   \n",
       "2199       5114  Fullmetal Alchemist: Brotherhood   \n",
       "26774     28977                          Gintama°   \n",
       "28159      9253                       Steins;Gate   \n",
       "47442      9969                           Gintama   \n",
       "\n",
       "                                                    tags  \n",
       "0                Drama Romance School Supernatural Movie  \n",
       "2199   Action Adventure Drama Fantasy Magic Military ...  \n",
       "26774  Action Comedy Historical Parody Samurai Sci-Fi...  \n",
       "28159                                 Sci-Fi Thriller TV  \n",
       "47442  Action Comedy Historical Parody Samurai Sci-Fi...  "
      ]
     },
     "execution_count": 24,
     "metadata": {},
     "output_type": "execute_result"
    }
   ],
   "source": [
    "#Creating new dataframe\n",
    "df1 = df.drop(['genre', 'type', 'episodes', 'rating_x', 'members', 'user_id', 'rating_y'], axis=1)\n",
    "df1.head(5)"
   ]
  },
  {
   "cell_type": "code",
   "execution_count": 25,
   "id": "978bddb2",
   "metadata": {
    "scrolled": true
   },
   "outputs": [
    {
     "data": {
      "text/html": [
       "<div>\n",
       "<style scoped>\n",
       "    .dataframe tbody tr th:only-of-type {\n",
       "        vertical-align: middle;\n",
       "    }\n",
       "\n",
       "    .dataframe tbody tr th {\n",
       "        vertical-align: top;\n",
       "    }\n",
       "\n",
       "    .dataframe thead th {\n",
       "        text-align: right;\n",
       "    }\n",
       "</style>\n",
       "<table border=\"1\" class=\"dataframe\">\n",
       "  <thead>\n",
       "    <tr style=\"text-align: right;\">\n",
       "      <th></th>\n",
       "      <th>anime_id</th>\n",
       "      <th>animename</th>\n",
       "      <th>tags</th>\n",
       "    </tr>\n",
       "  </thead>\n",
       "  <tbody>\n",
       "    <tr>\n",
       "      <th>0</th>\n",
       "      <td>32281</td>\n",
       "      <td>Kimi no Na wa.</td>\n",
       "      <td>Drama Romance School Supernatural Movie</td>\n",
       "    </tr>\n",
       "    <tr>\n",
       "      <th>1</th>\n",
       "      <td>5114</td>\n",
       "      <td>Fullmetal Alchemist: Brotherhood</td>\n",
       "      <td>Action Adventure Drama Fantasy Magic Military ...</td>\n",
       "    </tr>\n",
       "    <tr>\n",
       "      <th>2</th>\n",
       "      <td>28977</td>\n",
       "      <td>Gintama°</td>\n",
       "      <td>Action Comedy Historical Parody Samurai Sci-Fi...</td>\n",
       "    </tr>\n",
       "    <tr>\n",
       "      <th>3</th>\n",
       "      <td>9253</td>\n",
       "      <td>Steins;Gate</td>\n",
       "      <td>Sci-Fi Thriller TV</td>\n",
       "    </tr>\n",
       "    <tr>\n",
       "      <th>4</th>\n",
       "      <td>9969</td>\n",
       "      <td>Gintama</td>\n",
       "      <td>Action Comedy Historical Parody Samurai Sci-Fi...</td>\n",
       "    </tr>\n",
       "  </tbody>\n",
       "</table>\n",
       "</div>"
      ],
      "text/plain": [
       "   anime_id                         animename  \\\n",
       "0     32281                    Kimi no Na wa.   \n",
       "1      5114  Fullmetal Alchemist: Brotherhood   \n",
       "2     28977                          Gintama°   \n",
       "3      9253                       Steins;Gate   \n",
       "4      9969                           Gintama   \n",
       "\n",
       "                                                tags  \n",
       "0            Drama Romance School Supernatural Movie  \n",
       "1  Action Adventure Drama Fantasy Magic Military ...  \n",
       "2  Action Comedy Historical Parody Samurai Sci-Fi...  \n",
       "3                                 Sci-Fi Thriller TV  \n",
       "4  Action Comedy Historical Parody Samurai Sci-Fi...  "
      ]
     },
     "execution_count": 25,
     "metadata": {},
     "output_type": "execute_result"
    }
   ],
   "source": [
    "df1 = df1.reset_index()\n",
    "df1 = df1.drop(['index'], axis=1)\n",
    "df1.rename(columns = {'name':'animename'}, inplace = True)\n",
    "df1.head()"
   ]
  },
  {
   "cell_type": "code",
   "execution_count": 26,
   "id": "7609ef23",
   "metadata": {},
   "outputs": [
    {
     "name": "stdout",
     "output_type": "stream",
     "text": [
      "<class 'pandas.core.frame.DataFrame'>\n",
      "RangeIndex: 9892 entries, 0 to 9891\n",
      "Data columns (total 3 columns):\n",
      " #   Column     Non-Null Count  Dtype \n",
      "---  ------     --------------  ----- \n",
      " 0   anime_id   9892 non-null   int64 \n",
      " 1   animename  9892 non-null   object\n",
      " 2   tags       9892 non-null   object\n",
      "dtypes: int64(1), object(2)\n",
      "memory usage: 232.0+ KB\n"
     ]
    }
   ],
   "source": [
    "df1.info()"
   ]
  },
  {
   "cell_type": "markdown",
   "id": "c99d4a3a",
   "metadata": {},
   "source": [
    "## Model Building"
   ]
  },
  {
   "cell_type": "code",
   "execution_count": 27,
   "id": "e3a85cb8",
   "metadata": {},
   "outputs": [],
   "source": [
    "from sklearn.feature_extraction.text import CountVectorizer"
   ]
  },
  {
   "cell_type": "code",
   "execution_count": 28,
   "id": "04564f5d",
   "metadata": {},
   "outputs": [],
   "source": [
    "cv = CountVectorizer(max_features=50, stop_words='english')"
   ]
  },
  {
   "cell_type": "code",
   "execution_count": 29,
   "id": "d6e6754c",
   "metadata": {},
   "outputs": [],
   "source": [
    "vectors = cv.fit_transform(df1[\"tags\"]).toarray()"
   ]
  },
  {
   "cell_type": "code",
   "execution_count": 30,
   "id": "dedecea5",
   "metadata": {},
   "outputs": [
    {
     "data": {
      "text/plain": [
       "(9892, 50)"
      ]
     },
     "execution_count": 30,
     "metadata": {},
     "output_type": "execute_result"
    }
   ],
   "source": [
    "vectors.shape"
   ]
  },
  {
   "cell_type": "code",
   "execution_count": 31,
   "id": "29ddc8d1",
   "metadata": {
    "scrolled": true
   },
   "outputs": [
    {
     "data": {
      "text/plain": [
       "['action',\n",
       " 'adventure',\n",
       " 'ai',\n",
       " 'arts',\n",
       " 'cars',\n",
       " 'comedy',\n",
       " 'dementia',\n",
       " 'demons',\n",
       " 'drama',\n",
       " 'ecchi',\n",
       " 'fantasy',\n",
       " 'fi',\n",
       " 'game',\n",
       " 'harem',\n",
       " 'hentai',\n",
       " 'historical',\n",
       " 'horror',\n",
       " 'josei',\n",
       " 'kids',\n",
       " 'life',\n",
       " 'magic',\n",
       " 'martial',\n",
       " 'mecha',\n",
       " 'military',\n",
       " 'movie',\n",
       " 'music',\n",
       " 'mystery',\n",
       " 'ona',\n",
       " 'ova',\n",
       " 'parody',\n",
       " 'police',\n",
       " 'power',\n",
       " 'psychological',\n",
       " 'romance',\n",
       " 'samurai',\n",
       " 'school',\n",
       " 'sci',\n",
       " 'seinen',\n",
       " 'shoujo',\n",
       " 'shounen',\n",
       " 'slice',\n",
       " 'space',\n",
       " 'special',\n",
       " 'sports',\n",
       " 'super',\n",
       " 'supernatural',\n",
       " 'thriller',\n",
       " 'tv',\n",
       " 'vampire',\n",
       " 'yuri']"
      ]
     },
     "execution_count": 31,
     "metadata": {},
     "output_type": "execute_result"
    }
   ],
   "source": [
    "cv.get_feature_names()"
   ]
  },
  {
   "cell_type": "markdown",
   "id": "e74dd388",
   "metadata": {},
   "source": [
    "## Calculating Cosine Similarity"
   ]
  },
  {
   "cell_type": "code",
   "execution_count": 32,
   "id": "d8156eee",
   "metadata": {
    "scrolled": true
   },
   "outputs": [
    {
     "data": {
      "text/plain": [
       "array([[1.        , 0.15811388, 0.        , ..., 0.        , 0.        ,\n",
       "        0.        ],\n",
       "       [0.15811388, 1.        , 0.35355339, ..., 0.        , 0.        ,\n",
       "        0.        ],\n",
       "       [0.        , 0.35355339, 1.        , ..., 0.        , 0.        ,\n",
       "        0.        ],\n",
       "       ...,\n",
       "       [0.        , 0.        , 0.        , ..., 1.        , 1.        ,\n",
       "        1.        ],\n",
       "       [0.        , 0.        , 0.        , ..., 1.        , 1.        ,\n",
       "        1.        ],\n",
       "       [0.        , 0.        , 0.        , ..., 1.        , 1.        ,\n",
       "        1.        ]])"
      ]
     },
     "execution_count": 32,
     "metadata": {},
     "output_type": "execute_result"
    }
   ],
   "source": [
    "from sklearn.metrics.pairwise import cosine_similarity\n",
    "similarity = cosine_similarity(vectors)\n",
    "similarity"
   ]
  },
  {
   "cell_type": "code",
   "execution_count": 33,
   "id": "1bcd83cb",
   "metadata": {},
   "outputs": [],
   "source": [
    "def recommend(anime):\n",
    "    index = df1[df1['animename'] == anime].index[0]\n",
    "    distances = similarity[index]\n",
    "    anime_list = sorted(list(enumerate(distances)),reverse=True,key = lambda x: x[1])[1:6]\n",
    "    for i in anime_list:\n",
    "        print(df1.iloc[i[0]].animename)"
   ]
  },
  {
   "cell_type": "code",
   "execution_count": 34,
   "id": "f1587670",
   "metadata": {
    "scrolled": true
   },
   "outputs": [
    {
     "name": "stdout",
     "output_type": "stream",
     "text": [
      "Gintama\n",
      "Gintama: Enchousen\n",
      "Gintama\n",
      "Gintama: Yorinuki Gintama-san on Theater 2D\n",
      "Gintama Movie: Shinyaku Benizakura-hen\n"
     ]
    }
   ],
   "source": [
    "recommend('Gintama')"
   ]
  },
  {
   "cell_type": "code",
   "execution_count": 35,
   "id": "fa872896",
   "metadata": {
    "scrolled": true
   },
   "outputs": [
    {
     "name": "stdout",
     "output_type": "stream",
     "text": [
      "Hunter x Hunter\n",
      "Beast Wars Neo\n",
      "Big Order (TV)\n",
      "Rekka no Honoo\n",
      "Eat-Man 98\n"
     ]
    }
   ],
   "source": [
    "recommend('Hunter x Hunter (2011)')"
   ]
  },
  {
   "cell_type": "code",
   "execution_count": 36,
   "id": "7f317146",
   "metadata": {},
   "outputs": [
    {
     "name": "stdout",
     "output_type": "stream",
     "text": [
      "One Piece Movie 9: Episode of Chopper Plus - Fuyu ni Saku, Kiseki no Sakura\n",
      "One Piece Movie 5: Norowareta Seiken\n",
      "One Piece Movie 2: Nejimaki-jima no Daibouken\n",
      "One Piece Movie 1\n",
      "One Piece Movie 3: Chinjuu-jima no Chopper Oukoku\n"
     ]
    }
   ],
   "source": [
    "recommend('One Piece Movie 1')"
   ]
  },
  {
   "cell_type": "code",
   "execution_count": 37,
   "id": "d227fcb1",
   "metadata": {},
   "outputs": [],
   "source": [
    "import pickle"
   ]
  },
  {
   "cell_type": "code",
   "execution_count": 42,
   "id": "ae2f36d3",
   "metadata": {},
   "outputs": [],
   "source": [
    "pickle.dump(df1.to_dict(),open('anime_dict.pkl','wb'))"
   ]
  },
  {
   "cell_type": "code",
   "execution_count": 43,
   "id": "2acdaa02",
   "metadata": {},
   "outputs": [],
   "source": [
    "pickle.dump(similarity,open('sim.pkl','wb'))"
   ]
  }
 ],
 "metadata": {
  "kernelspec": {
   "display_name": "Python 3 (ipykernel)",
   "language": "python",
   "name": "python3"
  },
  "language_info": {
   "codemirror_mode": {
    "name": "ipython",
    "version": 3
   },
   "file_extension": ".py",
   "mimetype": "text/x-python",
   "name": "python",
   "nbconvert_exporter": "python",
   "pygments_lexer": "ipython3",
   "version": "3.9.7"
  }
 },
 "nbformat": 4,
 "nbformat_minor": 5
}
